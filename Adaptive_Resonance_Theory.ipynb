{
  "nbformat": 4,
  "nbformat_minor": 0,
  "metadata": {
    "colab": {
      "provenance": [],
      "authorship_tag": "ABX9TyOq6JsOGXYNQEmyvVQ/lNJD",
      "include_colab_link": true
    },
    "kernelspec": {
      "name": "python3",
      "display_name": "Python 3"
    },
    "language_info": {
      "name": "python"
    }
  },
  "cells": [
    {
      "cell_type": "markdown",
      "metadata": {
        "id": "view-in-github",
        "colab_type": "text"
      },
      "source": [
        "<a href=\"https://colab.research.google.com/github/mscitpract/SCT/blob/main/Adaptive_Resonance_Theory.ipynb\" target=\"_parent\"><img src=\"https://colab.research.google.com/assets/colab-badge.svg\" alt=\"Open In Colab\"/></a>"
      ]
    },
    {
      "cell_type": "code",
      "execution_count": 1,
      "metadata": {
        "colab": {
          "base_uri": "https://localhost:8080/"
        },
        "id": "98789Cfb-sVu",
        "outputId": "81d20f42-efbd-41f0-9f70-909d1ff0803d"
      },
      "outputs": [
        {
          "output_type": "stream",
          "name": "stdout",
          "text": [
            "Input vector belongs to cluster 0\n"
          ]
        }
      ],
      "source": [
        "import numpy as np\n",
        "class ART:\n",
        "  def __init__(self, vigilance_parameter, input_vectors):\n",
        "    self.vigilance_parameter = vigilance_parameter\n",
        "    self.input_vectors = input_vectors\n",
        "    self.prototypes = []\n",
        "  def compare_vectors(self, input_vector, prototype):\n",
        "    match = np.dot(input_vector, prototype) / (np.linalg.norm(input_vector) * np.linalg.norm(prototype))\n",
        "    return match\n",
        "  def create_prototype(self, input_vector):\n",
        "    return input_vector / np.linalg.norm(input_vector)\n",
        "  def compare_with_prototypes(self, input_vector):\n",
        "    max_match = 0\n",
        "    max_match_index = -1\n",
        "    for index, prototype in enumerate(self.prototypes):\n",
        "      match = self.compare_vectors(input_vector, prototype)\n",
        "      if match > max_match:\n",
        "         max_match = match\n",
        "         max_match_index = index\n",
        "    return max_match, max_match_index\n",
        "  def adapt_prototype(self, input_vector, prototype):\n",
        "    return prototype + (input_vector - prototype)\n",
        "  def train(self):\n",
        "    for input_vector in self.input_vectors:\n",
        "      match, match_index = self.compare_with_prototypes(input_vector)\n",
        "      if match < self.vigilance_parameter:\n",
        "        self.prototypes.append(self.create_prototype(input_vector))\n",
        "      else:\n",
        "          self.prototypes[match_index] = self.adapt_prototype(input_vector, self.prototypes[match_index])\n",
        "  def classify(self, input_vector):\n",
        "    match, match_index = self.compare_with_prototypes(input_vector)\n",
        "    if match < self.vigilance_parameter:\n",
        "       return None\n",
        "    else:\n",
        "       return match_index\n",
        "if __name__ == \"__main__\":\n",
        "   input_vectors = [[0.5, 0.5], [0.6, 0.6], [0.7, 0.7], [0.8, 0.9], [0.9, 0.8]]\n",
        "   vigilance_parameter = 0.8\n",
        "   art = ART(vigilance_parameter, input_vectors)\n",
        "   art.train()\n",
        "   result = art.classify([0.6, 0.6])\n",
        "   if result is None:\n",
        "      print(\"Input vector does not match any prototype.\")\n",
        "   else:\n",
        "      print(\"Input vector belongs to cluster\", result)\n"
      ]
    }
  ]
}