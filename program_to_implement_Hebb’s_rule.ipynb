{
  "nbformat": 4,
  "nbformat_minor": 0,
  "metadata": {
    "colab": {
      "provenance": [],
      "authorship_tag": "ABX9TyMD+ZT/LBelou8wMW9OYhZL",
      "include_colab_link": true
    },
    "kernelspec": {
      "name": "python3",
      "display_name": "Python 3"
    },
    "language_info": {
      "name": "python"
    }
  },
  "cells": [
    {
      "cell_type": "markdown",
      "metadata": {
        "id": "view-in-github",
        "colab_type": "text"
      },
      "source": [
        "<a href=\"https://colab.research.google.com/github/mscitpract/SCT/blob/main/program_to_implement_Hebb%E2%80%99s_rule.ipynb\" target=\"_parent\"><img src=\"https://colab.research.google.com/assets/colab-badge.svg\" alt=\"Open In Colab\"/></a>"
      ]
    },
    {
      "cell_type": "code",
      "execution_count": 1,
      "metadata": {
        "colab": {
          "base_uri": "https://localhost:8080/"
        },
        "id": "8nG_hVXl1ZMG",
        "outputId": "ceef7ce5-6c37-4424-93cd-9c9b2032cc15"
      },
      "outputs": [
        {
          "output_type": "stream",
          "name": "stdout",
          "text": [
            "First input with target =1\n",
            "new wt = [ 1  1  1 -1  1 -1  1  1  1]\n",
            "Bias value 1\n",
            "Second input with target =-1\n",
            "new wt = [ 0  0  0 -2  2 -2  0  0  0]\n",
            "Bias value 0\n"
          ]
        }
      ],
      "source": [
        "import numpy as np\n",
        "#first pattern\n",
        "x1=np.array([1,1,1,-1,1,-1,1,1,1])\n",
        "#second pattern\n",
        "x2=np.array([1,1,1,1,-1,1,1,1,1])\n",
        "#initialize bais value\n",
        "b=0\n",
        "#define target\n",
        "y=np.array([1,-1])\n",
        "wtold=np.zeros((9,))\n",
        "wtnew=np.zeros((9,))\n",
        "wtnew=wtnew.astype(int)\n",
        "wtold=wtold.astype(int)\n",
        "bais=0\n",
        "print(\"First input with target =1\")\n",
        "for i in range(0,9):\n",
        "  wtold[i]=wtold[i]+x1[i]*y[0]\n",
        "wtnew=wtold\n",
        "b=b+y[0]\n",
        "print(\"new wt =\", wtnew)\n",
        "print(\"Bias value\",b)\n",
        "print(\"Second input with target =-1\")\n",
        "for i in range(0,9):\n",
        "  wtnew[i]=wtold[i]+x2[i]*y[1]\n",
        "b=b+y[1]\n",
        "print(\"new wt =\", wtnew)\n",
        "print(\"Bias value\",b)\n"
      ]
    }
  ]
}