{
  "nbformat": 4,
  "nbformat_minor": 0,
  "metadata": {
    "colab": {
      "provenance": [],
      "authorship_tag": "ABX9TyNo3AC7hHGRYSQ/48p+ciHn",
      "include_colab_link": true
    },
    "kernelspec": {
      "name": "python3",
      "display_name": "Python 3"
    },
    "language_info": {
      "name": "python"
    }
  },
  "cells": [
    {
      "cell_type": "markdown",
      "metadata": {
        "id": "view-in-github",
        "colab_type": "text"
      },
      "source": [
        "<a href=\"https://colab.research.google.com/github/mscitpract/SCT/blob/main/binary_and_bipolar_sigmoidal_function.ipynb\" target=\"_parent\"><img src=\"https://colab.research.google.com/assets/colab-badge.svg\" alt=\"Open In Colab\"/></a>"
      ]
    },
    {
      "cell_type": "code",
      "execution_count": null,
      "metadata": {
        "colab": {
          "base_uri": "https://localhost:8080/"
        },
        "id": "fQMeom1o5INY",
        "outputId": "3a8789f5-3e88-4197-e4a2-30fe5140fd2d"
      },
      "outputs": [
        {
          "output_type": "stream",
          "name": "stdout",
          "text": [
            "Enter number of elements : 2\n",
            "Enter the inputs\n",
            "2\n",
            "4\n",
            "[2.0, 4.0]\n",
            "Enter the weights\n",
            "4\n",
            "8\n",
            "[4.0, 8.0]\n",
            "The net input can be calculated as Yin = x1w1 + x2w2 + x3w3\n",
            "40.0\n"
          ]
        }
      ],
      "source": [
        "# In[1]:\n",
        "\n",
        "# number of elements as input\n",
        "n = int(input(\"Enter number of elements : \"))\n",
        "\n",
        "# In[2]:\n",
        "print(\"Enter the inputs\")\n",
        "inputs = [] # creating an empty list for inputs\n",
        "# iterating till the range\n",
        "for i in range(0, n):\n",
        "         ele = float(input())\n",
        "         inputs.append(ele) # adding the element\n",
        "print(inputs)\n",
        "\n",
        "# In[3]:\n",
        "print(\"Enter the weights\")\n",
        "# creating an empty list for weights\n",
        "weights = []\n",
        "# iterating till the range\n",
        "for i in range(0, n):\n",
        "         ele = float(input())\n",
        "         weights.append(ele) # adding the element\n",
        "print(weights)\n",
        "\n",
        "# In[4]:\n",
        "print(\"The net input can be calculated as Yin = x1w1 + x2w2 + x3w3\")\n",
        "\n",
        "# In[5]:\n",
        "Yin = []\n",
        "for i in range(0, n):\n",
        "         Yin.append(inputs[i]*weights[i])\n",
        "print(round(sum(Yin),3))\n"
      ]
    }
  ]
}