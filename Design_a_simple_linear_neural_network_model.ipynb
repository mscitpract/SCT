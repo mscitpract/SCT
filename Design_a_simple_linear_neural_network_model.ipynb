{
  "nbformat": 4,
  "nbformat_minor": 0,
  "metadata": {
    "colab": {
      "provenance": [],
      "authorship_tag": "ABX9TyO0CR6LYNyGQgZ3httClzKQ",
      "include_colab_link": true
    },
    "kernelspec": {
      "name": "python3",
      "display_name": "Python 3"
    },
    "language_info": {
      "name": "python"
    }
  },
  "cells": [
    {
      "cell_type": "markdown",
      "metadata": {
        "id": "view-in-github",
        "colab_type": "text"
      },
      "source": [
        "<a href=\"https://colab.research.google.com/github/mscitpract/SCT/blob/main/Design_a_simple_linear_neural_network_model.ipynb\" target=\"_parent\"><img src=\"https://colab.research.google.com/assets/colab-badge.svg\" alt=\"Open In Colab\"/></a>"
      ]
    },
    {
      "cell_type": "code",
      "execution_count": null,
      "metadata": {
        "colab": {
          "base_uri": "https://localhost:8080/"
        },
        "id": "Ip8mYyZ3zvov",
        "outputId": "c8552928-1878-414c-e91d-e41dec211bbc"
      },
      "outputs": [
        {
          "output_type": "stream",
          "name": "stdout",
          "text": [
            "Enter value of x:2\n",
            "Enter value of weight w:1\n",
            "Enter value of bias b:3\n",
            "net= 5\n",
            "output= 1\n"
          ]
        }
      ],
      "source": [
        "x=float(input(\"Enter value of x:\"))\n",
        "w=float(input(\"Enter value of weight w:\"))\n",
        "b=float(input(\"Enter value of bias b:\"))\n",
        "net = int(w*x+b)\n",
        "if(net<0):\n",
        "  out=0\n",
        "elif((net>=0)&(net<=1)):\n",
        "  out =net\n",
        "else:\n",
        "  out=1\n",
        "print(\"net=\",net)\n",
        "print(\"output=\",out)\n"
      ]
    }
  ]
}