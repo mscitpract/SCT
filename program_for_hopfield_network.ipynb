{
  "nbformat": 4,
  "nbformat_minor": 0,
  "metadata": {
    "colab": {
      "provenance": [],
      "authorship_tag": "ABX9TyMvBQWJ6AkU0HRLoAm/8baV",
      "include_colab_link": true
    },
    "kernelspec": {
      "name": "python3",
      "display_name": "Python 3"
    },
    "language_info": {
      "name": "python"
    }
  },
  "cells": [
    {
      "cell_type": "markdown",
      "metadata": {
        "id": "view-in-github",
        "colab_type": "text"
      },
      "source": [
        "<a href=\"https://colab.research.google.com/github/mscitpract/SCT/blob/main/program_for_hopfield_network.ipynb\" target=\"_parent\"><img src=\"https://colab.research.google.com/assets/colab-badge.svg\" alt=\"Open In Colab\"/></a>"
      ]
    },
    {
      "cell_type": "code",
      "execution_count": 1,
      "metadata": {
        "colab": {
          "base_uri": "https://localhost:8080/"
        },
        "id": "IjSnK9uU9mie",
        "outputId": "b4df642e-c03d-4d5c-e0bf-de75eef55be2"
      },
      "outputs": [
        {
          "output_type": "stream",
          "name": "stdout",
          "text": [
            "Final state of the network:  [-1.0, 1.0, -1.0, 1.0]\n"
          ]
        }
      ],
      "source": [
        "import numpy as np\n",
        "\n",
        "class HopfieldNetwork:\n",
        "    def __init__(self, patterns):\n",
        "        self.weights = np.zeros((len(patterns[0]), len(patterns[0])))\n",
        "        for pattern in patterns:\n",
        "            self.weights += np.outer(pattern, pattern)\n",
        "        np.fill_diagonal(self.weights, 0)\n",
        "\n",
        "    def update_neuron(self, neuron_index, state):\n",
        "        return np.sign(np.dot(self.weights[neuron_index], state))\n",
        "\n",
        "    def update_state(self, state):\n",
        "        for i in range(len(state)):\n",
        "            state[i] = self.update_neuron(i, state)\n",
        "        return state\n",
        "\n",
        "    def set_initial_state(self, state):\n",
        "        self.current_state = state\n",
        "\n",
        "    def get_current_state(self):\n",
        "        return self.current_state\n",
        "\n",
        "if __name__ == \"__main__\":\n",
        "    patterns = [[1, 1, -1, -1], [-1, 1, -1, 1]]\n",
        "    network = HopfieldNetwork(patterns)\n",
        "\n",
        "    initial_state = [1, -1, -1, 1]\n",
        "    network.set_initial_state(initial_state)\n",
        "\n",
        "    for _ in range(10):\n",
        "        network.update_state(network.get_current_state())\n",
        "    \n",
        "    final_state = network.get_current_state()\n",
        "    print(\"Final state of the network: \", final_state)\n"
      ]
    }
  ]
}