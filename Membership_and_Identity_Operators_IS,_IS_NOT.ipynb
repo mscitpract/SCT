{
  "nbformat": 4,
  "nbformat_minor": 0,
  "metadata": {
    "colab": {
      "provenance": []
    },
    "kernelspec": {
      "name": "python3",
      "display_name": "Python 3"
    },
    "language_info": {
      "name": "python"
    }
  },
  "cells": [
    {
      "cell_type": "code",
      "execution_count": 1,
      "metadata": {
        "colab": {
          "base_uri": "https://localhost:8080/"
        },
        "id": "XdGg1ekyOZaq",
        "outputId": "5acfa30d-c34b-4bf3-fb81-fcd4a3378264"
      },
      "outputs": [
        {
          "output_type": "stream",
          "name": "stdout",
          "text": [
            "[1, 2, 3] and [1, 2, 3] do not have the same identity.\n",
            "[1, 2, 3] and [1, 2, 3] do not have the same identity.\n",
            "[1, 2, 3] and [1, 2, 3] have the same identity.\n",
            "[1, 2, 3] and [1, 2, 3] have the same identity.\n"
          ]
        }
      ],
      "source": [
        "# Identity operator 'is'\n",
        "def check_identity(value1, value2):\n",
        "  if value1 is value2:\n",
        "    print(value1, \"and\", value2, \"have the same identity.\")\n",
        "  else:\n",
        "    print(value1, \"and\", value2, \"do not have the same identity.\")\n",
        "# Identity operator 'is not'\n",
        "def check_not_identity(value1, value2):\n",
        "  if value1 is not value2:\n",
        "    print(value1, \"and\", value2, \"do not have the same identity.\")\n",
        "  else:\n",
        "    print(value1, \"and\", value2, \"have the same identity.\")\n",
        "if __name__ == \"__main__\":\n",
        "  value1 = [1, 2, 3]\n",
        "value2 = [1, 2, 3]\n",
        "check_identity(value1, value2) # [1, 2, 3] and [1, 2, 3] do not have the same identity.\n",
        "check_not_identity(value1, value2) # [1, 2, 3] and [1, 2, 3] do not have the same identity.\n",
        "value2 = value1\n",
        "check_identity(value1, value2) # [1, 2, 3] and [1, 2, 3] have the same identity.\n",
        "check_not_identity(value1, value2) # [1, 2, 3] and [1, 2, 3] have the same identity.\n"
      ]
    }
  ]
}