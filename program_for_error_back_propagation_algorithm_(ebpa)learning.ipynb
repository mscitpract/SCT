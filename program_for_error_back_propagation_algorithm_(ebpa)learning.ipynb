{
  "nbformat": 4,
  "nbformat_minor": 0,
  "metadata": {
    "colab": {
      "provenance": [],
      "authorship_tag": "ABX9TyPJhFQEK9+tya/EsUxCZf75",
      "include_colab_link": true
    },
    "kernelspec": {
      "name": "python3",
      "display_name": "Python 3"
    },
    "language_info": {
      "name": "python"
    }
  },
  "cells": [
    {
      "cell_type": "markdown",
      "metadata": {
        "id": "view-in-github",
        "colab_type": "text"
      },
      "source": [
        "<a href=\"https://colab.research.google.com/github/mscitpract/SCT/blob/main/program_for_error_back_propagation_algorithm_(ebpa)learning.ipynb\" target=\"_parent\"><img src=\"https://colab.research.google.com/assets/colab-badge.svg\" alt=\"Open In Colab\"/></a>"
      ]
    },
    {
      "cell_type": "code",
      "execution_count": 1,
      "metadata": {
        "colab": {
          "base_uri": "https://localhost:8080/"
        },
        "id": "Q7BZANt96RPw",
        "outputId": "2810fbfe-6a02-4a96-fcc8-67ec647cbf56"
      },
      "outputs": [
        {
          "output_type": "stream",
          "name": "stdout",
          "text": [
            "Enter weight first network12\n",
            "Enter base first network:35\n",
            "Enter weight second network:23\n",
            "Enter base second network:45\n",
            "Enter learning coefficient:11\n",
            "The updated weight of first n/w w11= 12.0\n",
            "The uploaded weight of second n/w w21=  23.0\n",
            "The updated base of first n/w b10= 35.0\n",
            "The updated base of second n/w b20=  45.0\n"
          ]
        }
      ],
      "source": [
        "import math\n",
        "a0=-1\n",
        "t=-1\n",
        "w10=float(input(\"Enter weight first network\"))\n",
        "b10=float(input(\"Enter base first network:\"))\n",
        "w20=float(input(\"Enter weight second network:\"))\n",
        "b20=float(input(\"Enter base second network:\"))\n",
        "c=float(input(\"Enter learning coefficient:\"))\n",
        "n1=float(w10*c+b10)\n",
        "a1=math.tanh(n1)\n",
        "n2=float(w20*a1+b20)\n",
        "a2=math.tanh(float(n2))\n",
        "e=t-a2\n",
        "s2=-2*(1-a2*a2)*e\n",
        "s1=(1-a1*a1)*w20*s2\n",
        "w21=w20-(c*s2*a1)\n",
        "w11=w10-(c*s1*a0)\n",
        "b21=b20-(c*s2)\n",
        "b11=b10-(c*s1)\n",
        "print(\"The updated weight of first n/w w11=\",w11)\n",
        "print(\"The uploaded weight of second n/w w21= \",w21)\n",
        "print(\"The updated base of first n/w b10=\",b10)\n",
        "print(\"The updated base of second n/w b20= \",b20)\n"
      ]
    }
  ]
}