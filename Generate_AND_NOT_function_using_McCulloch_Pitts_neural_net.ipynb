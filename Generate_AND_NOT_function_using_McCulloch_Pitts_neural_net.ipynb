{
  "nbformat": 4,
  "nbformat_minor": 0,
  "metadata": {
    "colab": {
      "provenance": [],
      "authorship_tag": "ABX9TyPLbSVdEDnJ4wgsPAEvrX+D",
      "include_colab_link": true
    },
    "kernelspec": {
      "name": "python3",
      "display_name": "Python 3"
    },
    "language_info": {
      "name": "python"
    }
  },
  "cells": [
    {
      "cell_type": "markdown",
      "metadata": {
        "id": "view-in-github",
        "colab_type": "text"
      },
      "source": [
        "<a href=\"https://colab.research.google.com/github/mscitpract/SCT/blob/main/Generate_AND_NOT_function_using_McCulloch_Pitts_neural_net.ipynb\" target=\"_parent\"><img src=\"https://colab.research.google.com/assets/colab-badge.svg\" alt=\"Open In Colab\"/></a>"
      ]
    },
    {
      "cell_type": "code",
      "execution_count": 1,
      "metadata": {
        "colab": {
          "base_uri": "https://localhost:8080/"
        },
        "id": "ni7CnKvs0prj",
        "outputId": "e5d55d54-111c-4702-ef7c-9c065e036b7d"
      },
      "outputs": [
        {
          "output_type": "stream",
          "name": "stdout",
          "text": [
            "Enter the number of inputs : 4\n",
            "For the  4  inputs calculate the net input using yin = x1w1 + x2w2 \n",
            "x1 = 0\n",
            "x2 = 0\n",
            "x1 = 0\n",
            "x2 = 1\n",
            "x1 = 1\n",
            "x2 = 0\n",
            "x1 = 1\n",
            "x2 = 1\n",
            "x1 =  [0, 0, 1, 1]\n",
            "x2 =  [0, 1, 0, 1]\n",
            "Yin =  [0, 1, 1, 2]\n",
            "After assuming one weight as excitatory and the other as inhibitory Yin =  [0, -1, 1, 0]\n",
            "Y =  [0, 0, 1, 0]\n"
          ]
        }
      ],
      "source": [
        "num_ip = int(input(\"Enter the number of inputs : \"))\n",
        "w1 = 1\n",
        "w2 = 1\n",
        "print(\"For the \", num_ip , \" inputs calculate the net input using yin = x1w1 + x2w2 \")\n",
        "x1 = []\n",
        "x2 = []\n",
        "for j in range(0, num_ip):\n",
        "  ele1 = int(input(\"x1 = \"))\n",
        "  ele2 = int(input(\"x2 = \"))\n",
        "  x1.append(ele1)\n",
        "  x2.append(ele2)\n",
        "print(\"x1 = \",x1)\n",
        "print(\"x2 = \",x2)\n",
        "n = x1 * w1\n",
        "m = x2 * w2\n",
        "Yin = []\n",
        "for i in range(0, num_ip):\n",
        "  Yin.append(n[i] + m[i])\n",
        "print(\"Yin = \",Yin)\n",
        "#Assume one weight as excitatory and the other as inhibitory, i.e.,\n",
        "Yin = []\n",
        "for i in range(0, num_ip):\n",
        "  Yin.append(n[i] - m[i])\n",
        "print(\"After assuming one weight as excitatory and the other as inhibitory Yin = \",Yin)\n",
        "#From the calculated net inputs, now it is possible to fire the neuron for input (1, 0)\n",
        "#only by fixing a threshold of 1, i.e., θ ≥ 1 for Y unit.\n",
        "#Thus, w1 = 1, w2 = -1; θ ≥ 1\n",
        "Y=[]\n",
        "for i in range(0, num_ip):\n",
        "  if(Yin[i]>=1):\n",
        "    ele = 1\n",
        "    Y.append(ele)\n",
        "  if(Yin[i]<1):\n",
        "    ele = 0\n",
        "    Y.append(ele)\n",
        "print(\"Y = \",Y)\n"
      ]
    }
  ]
}