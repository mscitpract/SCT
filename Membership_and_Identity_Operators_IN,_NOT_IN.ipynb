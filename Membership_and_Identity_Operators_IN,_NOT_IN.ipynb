{
  "nbformat": 4,
  "nbformat_minor": 0,
  "metadata": {
    "colab": {
      "provenance": []
    },
    "kernelspec": {
      "name": "python3",
      "display_name": "Python 3"
    },
    "language_info": {
      "name": "python"
    }
  },
  "cells": [
    {
      "cell_type": "code",
      "execution_count": 2,
      "metadata": {
        "colab": {
          "base_uri": "https://localhost:8080/"
        },
        "id": "hOjesMbPKX_4",
        "outputId": "ddf8ac72-bd09-458f-c307-63910257ebf7"
      },
      "outputs": [
        {
          "output_type": "stream",
          "name": "stdout",
          "text": [
            "3 is in the container.\n",
            "6 is not in the container.\n"
          ]
        }
      ],
      "source": [
        "# Membership operator 'in'\n",
        "def check_membership(value, container):\n",
        "  if value in container:\n",
        "    print(value, \"is in the container.\")\n",
        "  else:\n",
        "   print(value, \"is not in the container.\")\n",
        "# Membership operator 'not in'\n",
        "def check_not_membership(value, container):\n",
        "  if value not in container:\n",
        "    print(value, \"is not in the container.\")\n",
        "  else:\n",
        "    print(value, \"is in the container.\")\n",
        "if __name__ == \"__main__\":\n",
        "  container = [1, 2, 3, 4, 5]\n",
        "value = 3\n",
        "check_membership(value, container)\n",
        "check_not_membership(6, container) \n"
      ]
    }
  ]
}